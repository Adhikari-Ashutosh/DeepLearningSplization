{
  "nbformat": 4,
  "nbformat_minor": 0,
  "metadata": {
    "colab": {
      "provenance": []
    },
    "kernelspec": {
      "name": "python3",
      "display_name": "Python 3"
    },
    "language_info": {
      "name": "python"
    }
  },
  "cells": [
    {
      "cell_type": "markdown",
      "source": [
        "Hi! This is an implementation of what I learned from Andrew Ng's course on Deep learning on Coursera! It's a simple Logistic Regression function/set of functions! Details:- We are doing one neuron with nx dimensional input, m training sets and binary output. I'm not doing the train-test split as I am only testing my knowledge of maths of log reg."
      ],
      "metadata": {
        "id": "pZjQQKhogz_q"
      }
    },
    {
      "cell_type": "code",
      "source": [
        "# Import the important libs\n",
        "import numpy as np\n",
        "import matplotlib.pyplot as plt"
      ],
      "metadata": {
        "id": "xQ9cl5ngiHhn"
      },
      "execution_count": 10,
      "outputs": []
    },
    {
      "cell_type": "code",
      "execution_count": 22,
      "metadata": {
        "id": "Fge1AVYCguXI"
      },
      "outputs": [],
      "source": [
        "# One of the important things I learned from the course was the value of declaring proper shapes for datasets\n",
        "def init_zero(nx):\n",
        "  # We start with Zero as the initialization since it's much faster than a random initialization\n",
        "  # Here nx is the number of dimensions\n",
        "  w = np.zeros((nx,1))\n",
        "  b = 0.0\n",
        "  # Here b is a scalar constant since we have a single layer of neurons\n",
        "  return w,b"
      ]
    },
    {
      "cell_type": "code",
      "source": [
        "def sigmoid(x):\n",
        "  # The all important sigmoid function that we need\n",
        "  s = 1/(1+np.exp(-x))\n",
        "  # here we use np.exp for vectorization\n",
        "  return s"
      ],
      "metadata": {
        "id": "eCQAchUciTql"
      },
      "execution_count": 23,
      "outputs": []
    },
    {
      "cell_type": "code",
      "source": [
        "def cost(y,yhat):\n",
        "  # Returns the value of average loss over a training set\n",
        "  # this is also a vectorized method :)\n",
        "  return - (1/Y.shape[-1])*np.sum(Y * np.log(yhat) + (1 - Y) * np.log(1 - yhat))"
      ],
      "metadata": {
        "id": "iFei9nHyikyu"
      },
      "execution_count": 32,
      "outputs": []
    },
    {
      "cell_type": "code",
      "source": [
        "def forward(w,b,X):\n",
        "  return sigmoid(np.dot(w.T,X)+b)"
      ],
      "metadata": {
        "id": "U7s5H2scnrRI"
      },
      "execution_count": 14,
      "outputs": []
    },
    {
      "cell_type": "code",
      "source": [
        "def propagate(w,b,X,Y):\n",
        "  # Implementing one iteration of forward pass and back prop to get dw and db\n",
        "  # Forward Pass:\n",
        "  Yhat = forward(w,b,X)\n",
        "  dZ = Yhat - Y\n",
        "  # dz is the derivative term for Z which is wX + b\n",
        "  dw = (1/X.shape[-1])*np.dot( X , dZ.T )\n",
        "  db = (1/X.shape[-1])*np.sum(dZ)\n",
        "  return {'dw': dw,\n",
        "          'db': db,}"
      ],
      "metadata": {
        "id": "wN5aT5eQjIaQ"
      },
      "execution_count": 29,
      "outputs": []
    },
    {
      "cell_type": "code",
      "source": [
        "# Let's put everything together\n",
        "def model(X , Y , alpha , printcost = False,niter = 200):\n",
        "  w,b = init_zero(X.shape[0])\n",
        "  costsheet= []\n",
        "  # The only for loop we need \n",
        "  for i in range(niter):\n",
        "    dwdb = propagate(w,b,X,Y)\n",
        "    dw = dwdb[\"dw\"]\n",
        "    db = dwdb[\"db\"]\n",
        "    # Update weights\n",
        "    w = w - alpha * dw\n",
        "    b = b - alpha * db\n",
        "    c = cost(Y,forward(w,b,X))\n",
        "    costsheet.append(c)\n",
        "    # Creating a list to display our progress over iterations\n",
        "    if printcost:\n",
        "      print(f\"The cost for iteration {niter} is {c}.\")\n",
        "  return {\n",
        "        \"params\" : {\n",
        "            \"w\":w,\n",
        "            \"b\":b,\n",
        "        },\n",
        "        \"costdata\": costsheet,\n",
        "    }\n"
      ],
      "metadata": {
        "id": "dFAwOawgmMVo"
      },
      "execution_count": 38,
      "outputs": []
    },
    {
      "cell_type": "code",
      "source": [
        "# Let's test our model for a very simple test data\n",
        "X = np.array([[1., -2., -1.], [3., 0.5, -3.2]])\n",
        "Y = np.array([[1, 1, 0]])\n",
        "dat = model(X , Y , 0.01 , niter = 100)\n",
        "plt.plot(dat[\"costdata\"])"
      ],
      "metadata": {
        "colab": {
          "base_uri": "https://localhost:8080/",
          "height": 450
        },
        "id": "sMtLiaQLooWH",
        "outputId": "7e572a4a-a12e-42f3-f3b7-9ed7e780583f"
      },
      "execution_count": 39,
      "outputs": [
        {
          "output_type": "execute_result",
          "data": {
            "text/plain": [
              "[<matplotlib.lines.Line2D at 0x7fe71dc664d0>]"
            ]
          },
          "metadata": {},
          "execution_count": 39
        },
        {
          "output_type": "display_data",
          "data": {
            "text/plain": [
              "<Figure size 640x480 with 1 Axes>"
            ],
            "image/png": "[encoded data removed]"
          },
          "metadata": {}
        }
      ]
    },
    {
      "cell_type": "markdown",
      "source": [
        "YAY! It works for this data! without an error... which means the math isn't wrong!"
      ],
      "metadata": {
        "id": "TLjD1hWSsspx"
      }
    }
  ]
}